{
 "cells": [
  {
   "cell_type": "markdown",
   "metadata": {},
   "source": [
    "## Python for Data Science: Final Assignment\n",
    "\n",
    "### Webscraping"
   ]
  },
  {
   "cell_type": "markdown",
   "metadata": {},
   "source": [
    "#### Step 1: Define a Webscraping function"
   ]
  },
  {
   "cell_type": "code",
   "execution_count": null,
   "metadata": {},
   "outputs": [],
   "source": [
    "import bs4\n",
    "import requests\n",
    "import pandas as pd\n",
    "import numpy as np\n",
    "import boto3"
   ]
  },
  {
   "cell_type": "code",
   "execution_count": 7,
   "metadata": {},
   "outputs": [],
   "source": [
    "def get_basketball_stats(link='https://en.wikipedia.org/wiki/Michael_Jordan'):\n",
    "    # read the webpage \n",
    "    response = requests.get(link)\n",
    "    # create a BeautifulSoup object to parse the HTML  \n",
    "    soup = bs4.BeautifulSoup(response.text, 'html.parser')\n",
    "    # the player stats are defined  with the attribute CSS class set to 'wikitable sortable'; \n",
    "    #therefore we create a tag object \"table\"\n",
    "    table=soup.find(class_='wikitable sortable')\n",
    "\n",
    "    #the headers of the table are the first table row (tr) we create a tag object that has the first row  \n",
    "    headers=table.tr\n",
    "    #the table column names are displayed  as an abbreviation; therefore we find all the abbr tags and returs an Iterator\n",
    "    titles=headers.find_all(\"abbr\")\n",
    "    #we create a dictionary  and pass the table headers as the keys \n",
    "    data = {title['title']:[] for title in titles}\n",
    "   #we will store each column as a list in a dictionary, the header of the column will be the dictionary key \n",
    "\n",
    "    #we iterate over each table row by fining each table tag tr and assign it to the objed\n",
    "    for row in table.find_all('tr')[1:]:\n",
    "    \n",
    "        #we iterate over each cell in the table, as each cell corresponds to a different column we all obtain the correspondin key corresponding the column n \n",
    "        for key,a in zip(data.keys(),row.find_all(\"td\")[2:]):\n",
    "            # we append each elment and strip any extra HTML contnet \n",
    "            data[key].append(''.join(c for c in a.text if (c.isdigit() or c == \".\")))\n",
    "\n",
    "    # we remove extra rows by finding the smallest list     \n",
    "    Min=min([len(x)  for x in data.values()])\n",
    "    #we convert the elements in the key to floats \n",
    "    for key in data.keys():\n",
    "        data[key]=list(map(lambda x: float(x), data[key][:Min]))\n",
    "       \n",
    "    return data"
   ]
  },
  {
   "cell_type": "markdown",
   "metadata": {},
   "source": [
    "### Step 2: Web Scraping the data and Converting to Pandas Dataframe"
   ]
  },
  {
   "cell_type": "code",
   "execution_count": 8,
   "metadata": {},
   "outputs": [],
   "source": [
    "import pandas as pd\n",
    "import matplotlib.pyplot as plt\n",
    "from IPython.display import display"
   ]
  },
  {
   "cell_type": "code",
   "execution_count": 9,
   "metadata": {},
   "outputs": [],
   "source": [
    "# List 1 contains the links to the Wikipedia article for each player.List 2 contains the names of each player.\n",
    "\n",
    "links=['https://en.wikipedia.org/wiki/Michael_Jordan'\\\n",
    "       ,'https://en.wikipedia.org/wiki/Kobe_Bryant'\\\n",
    "      ,'https://en.wikipedia.org/wiki/LeBron_James'\\\n",
    "      \n",
    "      ,'https://en.wikipedia.org/wiki/Stephen_Curry']\n",
    "names=['Michael Jordan','Kobe Bryant','Lebron James','Stephen Curry']"
   ]
  },
  {
   "cell_type": "code",
   "execution_count": 10,
   "metadata": {},
   "outputs": [],
   "source": [
    "# For each Player create a Python dictionary from the table Regular season table\n",
    "\n",
    "michael_jordan_dict=get_basketball_stats('https://en.wikipedia.org/wiki/Michael_Jordan')\n",
    "\n",
    "kobe_bryant_dict=get_basketball_stats('https://en.wikipedia.org/wiki/Kobe_Bryant')\n",
    "\n",
    "lebron_james_dict=get_basketball_stats('https://en.wikipedia.org/wiki/LeBron_James')\n",
    "\n",
    "stephen_curry_dict=get_basketball_stats('https://en.wikipedia.org/wiki/Stephen_Curry')"
   ]
  },
  {
   "cell_type": "code",
   "execution_count": 12,
   "metadata": {},
   "outputs": [],
   "source": [
    "# For each Player convert the Python Dictionary to a Pandas Dataframe\n",
    "\n",
    "michael_jordan = pd.DataFrame(michael_jordan_dict)\n",
    "\n",
    "kobe_bryant = pd.DataFrame(kobe_bryant_dict) \n",
    "\n",
    "lebron_james = pd.DataFrame(lebron_james_dict) \n",
    "\n",
    "stephen_curry = pd.DataFrame(stephen_curry_dict) "
   ]
  },
  {
   "cell_type": "code",
   "execution_count": 13,
   "metadata": {},
   "outputs": [
    {
     "name": "stdout",
     "output_type": "stream",
     "text": [
      "Michael Jordan\n",
      "   Games played  Games started  Minutes per game  Field goal percentage  \\\n",
      "0          82.0           82.0              38.3                  0.515   \n",
      "1          18.0            7.0              25.1                  0.457   \n",
      "2          82.0           82.0              40.0                  0.482   \n",
      "3          82.0           82.0              40.4                  0.535   \n",
      "4          81.0           81.0              40.2                  0.538   \n",
      "\n",
      "   3-point field-goal percentage  Free-throw percentage  Rebounds per game  \\\n",
      "0                          0.173                  0.845                6.5   \n",
      "1                          0.167                  0.840                3.6   \n",
      "2                          0.182                  0.857                5.2   \n",
      "3                          0.132                  0.841                5.5   \n",
      "4                          0.276                  0.850                8.0   \n",
      "\n",
      "   Assists per game  Steals per game  Blocks per game  Points per game  \n",
      "0               5.9              2.4              0.8             28.2  \n",
      "1               2.9              2.1              1.2             22.7  \n",
      "2               4.6              2.9              1.5             37.1  \n",
      "3               5.9              3.2              1.6             35.0  \n",
      "4               8.0              2.9              0.8             32.5  \n",
      "Kobe Bryant\n",
      "   Games played  Games started  Minutes per game  Field goal percentage  \\\n",
      "0          71.0            6.0              15.5                  0.417   \n",
      "1          79.0            1.0              26.0                  0.428   \n",
      "2          50.0           50.0              37.9                  0.465   \n",
      "3          66.0           62.0              38.2                  0.468   \n",
      "4          68.0           68.0              40.9                  0.464   \n",
      "\n",
      "   3-point field-goal percentage  Free-throw percentage  Rebounds per game  \\\n",
      "0                          0.375                  0.819                1.9   \n",
      "1                          0.341                  0.794                3.1   \n",
      "2                          0.267                  0.839                5.3   \n",
      "3                          0.319                  0.821                6.3   \n",
      "4                          0.305                  0.853                5.9   \n",
      "\n",
      "   Assists per game  Steals per game  Blocks per game  Points per game  \n",
      "0               1.3              0.7              0.3              7.6  \n",
      "1               2.5              0.9              0.5             15.4  \n",
      "2               3.8              1.4              1.0             19.9  \n",
      "3               4.9              1.6              0.9             22.5  \n",
      "4               5.0              1.7              0.6             28.5  \n",
      "Lebron James\n",
      "   Games played  Games started  Minutes per game  Field goal percentage  \\\n",
      "0          79.0           79.0              39.5                  0.417   \n",
      "1          80.0           80.0              42.4                  0.472   \n",
      "2          79.0           79.0              42.5                  0.480   \n",
      "3          78.0           78.0              40.9                  0.476   \n",
      "4          75.0           74.0              40.4                  0.484   \n",
      "\n",
      "   3-point field-goal percentage  Free-throw percentage  Rebounds per game  \\\n",
      "0                          0.290                  0.754                5.5   \n",
      "1                          0.351                  0.750                7.4   \n",
      "2                          0.335                  0.738                7.0   \n",
      "3                          0.319                  0.698                6.7   \n",
      "4                          0.315                  0.712                7.9   \n",
      "\n",
      "   Assists per game  Steals per game  Blocks per game  Points per game  \n",
      "0               5.9              1.6              0.7             20.9  \n",
      "1               7.2              2.2              0.7             27.2  \n",
      "2               6.6              1.6              0.8             31.4  \n",
      "3               6.0              1.6              0.7             27.3  \n",
      "4               7.2              1.8              1.1             30.0  \n",
      "Stephen Curry\n",
      "   Games played  Games started  Minutes per game  Field goal percentage  \\\n",
      "0          80.0           77.0              36.2                  0.462   \n",
      "1          74.0           74.0              33.6                  0.480   \n",
      "2          26.0           23.0              28.2                  0.490   \n",
      "3          78.0           78.0              38.2                  0.451   \n",
      "4          78.0           78.0              36.5                  0.471   \n",
      "\n",
      "   3-point field-goal percentage  Free-throw percentage  Rebounds per game  \\\n",
      "0                          0.437                  0.885                4.5   \n",
      "1                          0.442                  0.934                3.9   \n",
      "2                          0.455                  0.809                3.4   \n",
      "3                          0.453                  0.900                4.0   \n",
      "4                          0.424                  0.885                4.3   \n",
      "\n",
      "   Assists per game  Steals per game  Blocks per game  Points per game  \n",
      "0               5.9              1.9              0.2             17.5  \n",
      "1               5.8              1.5              0.3             18.6  \n",
      "2               5.3              1.5              0.3             14.7  \n",
      "3               6.9              1.6              0.2             22.9  \n",
      "4               8.5              1.6              0.2             24.0  \n"
     ]
    }
   ],
   "source": [
    "# For each player display the first five columns of the Dataframe, print the name of each Player above the Dataframe\n",
    "\n",
    "print('Michael Jordan')\n",
    "print(michael_jordan.head())\n",
    "\n",
    "print('Kobe Bryant')\n",
    "print(kobe_bryant.head())\n",
    "\n",
    "print('Lebron James')\n",
    "print(lebron_james.head())\n",
    "\n",
    "print('Stephen Curry')\n",
    "print(stephen_curry.head())"
   ]
  },
  {
   "cell_type": "markdown",
   "metadata": {},
   "source": [
    "### Step 3: Plot the Points per game for a player"
   ]
  },
  {
   "cell_type": "code",
   "execution_count": 14,
   "metadata": {},
   "outputs": [
    {
     "data": {
      "image/png": "[encoded data removed]",
      "text/plain": [
       "<Figure size 432x288 with 1 Axes>"
      ]
     },
     "metadata": {
      "needs_background": "light"
     },
     "output_type": "display_data"
    }
   ],
   "source": [
    "import matplotlib.pyplot as plt\n",
    "\n",
    "names=['Michael Jordan','Kobe Bryant','Lebron James','Stephen Curry']\n",
    "data_frame = [michael_jordan,kobe_bryant,lebron_james,stephen_curry]\n",
    "\n",
    "for (n,d) in zip(names,data_frame):\n",
    "    plt.plot(d[['Points per game']],label=n)\n",
    "    plt.legend()\n",
    "    plt.xlabel('years')\n",
    "    plt.ylabel('Points per game')"
   ]
  },
  {
   "cell_type": "code",
   "execution_count": null,
   "metadata": {},
   "outputs": [],
   "source": []
  }
 ],
 "metadata": {
  "kernelspec": {
   "display_name": "Python 3",
   "language": "python",
   "name": "python3"
  },
  "language_info": {
   "codemirror_mode": {
    "name": "ipython",
    "version": 3
   },
   "file_extension": ".py",
   "mimetype": "text/x-python",
   "name": "python",
   "nbconvert_exporter": "python",
   "pygments_lexer": "ipython3",
   "version": "3.7.0"
  }
 },
 "nbformat": 4,
 "nbformat_minor": 2
}
